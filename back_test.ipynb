{
 "cells": [
  {
   "cell_type": "code",
   "execution_count": null,
   "metadata": {},
   "outputs": [],
   "source": [
    "## install finrl library\n",
    "!pip install git+https://github.com/AI4Finance-Foundation/FinRL.git"
   ]
  },
  {
   "cell_type": "markdown",
   "metadata": {},
   "source": [
    "# 导入所需库"
   ]
  },
  {
   "cell_type": "code",
   "execution_count": 48,
   "metadata": {},
   "outputs": [],
   "source": [
    "# 导入必要的库\n",
    "import os\n",
    "import pandas as pd\n",
    "import numpy as np\n",
    "import matplotlib.pyplot as plt\n",
    "import glob\n",
    "from stable_baselines3 import A2C, DDPG, PPO, TD3, SAC\n",
    "import torch\n",
    "import time\n",
    "\n",
    "from finrl.agents.stablebaselines3.models import DRLAgent\n",
    "from finrl.config import INDICATORS, TRAINED_MODEL_DIR, RESULTS_DIR\n",
    "from finrl.main import check_and_make_directories\n",
    "from finrl.meta.env_stock_trading.env_stocktrading import StockTradingEnv\n",
    "from finrl.meta.preprocessor.yahoodownloader import YahooDownloader\n",
    "\n",
    "# 设置中文显示\n",
    "plt.rcParams['font.sans-serif'] = ['SimHei']  # 用来正常显示中文标签\n",
    "plt.rcParams['axes.unicode_minus'] = False    # 用来正常显示负号\n",
    "plt.rcParams[\"figure.figsize\"] = (15,7)       # 设置图表大小"
   ]
  },
  {
   "cell_type": "markdown",
   "metadata": {},
   "source": [
    "# 是否启用GPU"
   ]
  },
  {
   "cell_type": "code",
   "execution_count": 49,
   "metadata": {},
   "outputs": [
    {
     "name": "stdout",
     "output_type": "stream",
     "text": [
      "检查GPU可用性...\n",
      "✓ 发现 1 个可用的GPU设备\n",
      "✓ 当前使用: NVIDIA GeForce RTX 3060 Laptop GPU\n"
     ]
    }
   ],
   "source": [
    "# 检查GPU可用性\n",
    "print(\"检查GPU可用性...\")\n",
    "use_cuda = torch.cuda.is_available()\n",
    "if use_cuda:\n",
    "    cuda_device_count = torch.cuda.device_count()\n",
    "    cuda_device_name = torch.cuda.get_device_name(0)\n",
    "    print(f\"✓ 发现 {cuda_device_count} 个可用的GPU设备\")\n",
    "    print(f\"✓ 当前使用: {cuda_device_name}\")\n",
    "else:\n",
    "    print(\"✗ 未发现可用的GPU，将使用CPU进行回测\")\n",
    "\n",
    "# 确保目录存在\n",
    "check_and_make_directories([TRAINED_MODEL_DIR, 'results'])"
   ]
  },
  {
   "cell_type": "markdown",
   "metadata": {},
   "source": [
    "# 读取数据"
   ]
  },
  {
   "cell_type": "code",
   "execution_count": 50,
   "metadata": {},
   "outputs": [
    {
     "name": "stdout",
     "output_type": "stream",
     "text": [
      "训练数据共 126000 条记录\n",
      "测试数据共 23500 条记录\n"
     ]
    }
   ],
   "source": [
    "# Part 2. 回测准备\n",
    "\n",
    "# 加载数据（保持路径不变）\n",
    "train = pd.read_csv(\"data/processed_data/train_data_small.csv\")\n",
    "trade = pd.read_csv(\"data/processed_data/test_data_small.csv\")\n",
    "\n",
    "# 设置索引格式 - 与示例代码保持一致\n",
    "train = train.set_index(train.columns[0])\n",
    "train.index.names = [\"\"]\n",
    "trade = trade.set_index(trade.columns[0])\n",
    "trade.index.names = [\"\"]\n",
    "\n",
    "print(f\"训练数据共 {len(train)} 条记录\")\n",
    "print(f\"测试数据共 {len(trade)} 条记录\")"
   ]
  },
  {
   "cell_type": "markdown",
   "metadata": {},
   "source": [
    "# 回测模型选择"
   ]
  },
  {
   "cell_type": "code",
   "execution_count": 55,
   "metadata": {},
   "outputs": [],
   "source": [
    "# 设置要使用的模型\n",
    "if_using_a2c = True\n",
    "if_using_ddpg = True\n",
    "if_using_ppo = False\n",
    "if_using_td3 = False\n",
    "if_using_sac = False\n",
    "\n",
    "# 加载已训练的模型 并指定哪些需要用cpu 哪些用gpu\n",
    "trained_a2c = A2C.load(TRAINED_MODEL_DIR + \"/agent_a2c\",device=\"cpu\") if if_using_a2c else None\n",
    "trained_ddpg = (\n",
    "    DDPG.load(TRAINED_MODEL_DIR + \"/agent_ddpg\", device=\"cuda\")\n",
    "    if if_using_ddpg\n",
    "    else None\n",
    ")\n",
    "trained_ppo = (\n",
    "    PPO.load(TRAINED_MODEL_DIR + \"/agent_ppo\", device=\"cuda\") if if_using_ppo else None\n",
    ")\n",
    "trained_td3 = (\n",
    "    TD3.load(TRAINED_MODEL_DIR + \"/agent_td3\", device=\"cuda\") if if_using_td3 else None\n",
    ")\n",
    "trained_sac = (\n",
    "    SAC.load(TRAINED_MODEL_DIR + \"/agent_sac\", device=\"cuda\") if if_using_sac else None\n",
    ")"
   ]
  },
  {
   "cell_type": "markdown",
   "metadata": {},
   "source": [
    "# 设置回测参数"
   ]
  },
  {
   "cell_type": "code",
   "execution_count": 56,
   "metadata": {},
   "outputs": [
    {
     "name": "stdout",
     "output_type": "stream",
     "text": [
      "股票维度: 500, 状态空间: 5001\n"
     ]
    }
   ],
   "source": [
    "# 构建交易环境参数\n",
    "stock_dimension = len(trade.tic.unique())\n",
    "state_space = 1 + 2 * stock_dimension + len(INDICATORS) * stock_dimension\n",
    "print(f\"股票维度: {stock_dimension}, 状态空间: {state_space}\")\n",
    "\n",
    "# 设置交易成本和初始持仓\n",
    "buy_cost_list = sell_cost_list = [0.001] * stock_dimension\n",
    "num_stock_shares = [0] * stock_dimension\n",
    "\n",
    "env_kwargs = {\n",
    "    \"hmax\": 100,\n",
    "    \"initial_amount\": 1000000,\n",
    "    \"num_stock_shares\": num_stock_shares,\n",
    "    \"buy_cost_pct\": buy_cost_list,\n",
    "    \"sell_cost_pct\": sell_cost_list,\n",
    "    \"state_space\": state_space,\n",
    "    \"stock_dim\": stock_dimension,\n",
    "    \"tech_indicator_list\": INDICATORS,\n",
    "    \"action_space\": stock_dimension,\n",
    "    \"reward_scaling\": 1e-4,\n",
    "}\n",
    "\n",
    "# 构建回测环境\n",
    "e_trade_gym = StockTradingEnv(\n",
    "    df=trade, turbulence_threshold=70, risk_indicator_col=\"vix\", **env_kwargs\n",
    ")"
   ]
  },
  {
   "cell_type": "markdown",
   "metadata": {},
   "source": [
    "# 开始回测"
   ]
  },
  {
   "cell_type": "code",
   "execution_count": 57,
   "metadata": {},
   "outputs": [
    {
     "name": "stdout",
     "output_type": "stream",
     "text": [
      "正在回测A2C模型...\n",
      "hit end!\n",
      "A2C回测完成，最终资产: $954,516.33\n",
      "正在回测DDPG模型...\n",
      "hit end!\n",
      "DDPG回测完成，最终资产: $959,499.14\n"
     ]
    }
   ],
   "source": [
    "# 执行回测 - 严格按照示例代码顺序\n",
    "# A2C模型回测\n",
    "if if_using_a2c:\n",
    "    print(\"正在回测A2C模型...\")\n",
    "    df_account_value_a2c, df_actions_a2c = DRLAgent.DRL_prediction(\n",
    "        model=trained_a2c, environment=e_trade_gym\n",
    "    )\n",
    "    print(\n",
    "        f\"A2C回测完成，最终资产: ${df_account_value_a2c['account_value'].iloc[-1]:,.2f}\"\n",
    "    )\n",
    "else:\n",
    "    df_account_value_a2c, df_actions_a2c = None, None\n",
    "\n",
    "# DDPG模型回测\n",
    "if if_using_ddpg:\n",
    "    print(\"正在回测DDPG模型...\")\n",
    "    df_account_value_ddpg, df_actions_ddpg = DRLAgent.DRL_prediction(\n",
    "        model=trained_ddpg, environment=e_trade_gym\n",
    "    )\n",
    "    print(\n",
    "        f\"DDPG回测完成，最终资产: ${df_account_value_ddpg['account_value'].iloc[-1]:,.2f}\"\n",
    "    )\n",
    "else:\n",
    "    df_account_value_ddpg, df_actions_ddpg = None, None\n",
    "\n",
    "# PPO模型回测\n",
    "if if_using_ppo:\n",
    "    print(\"正在回测PPO模型...\")\n",
    "    df_account_value_ppo, df_actions_ppo = DRLAgent.DRL_prediction(\n",
    "        model=trained_ppo, environment=e_trade_gym\n",
    "    )\n",
    "    print(\n",
    "        f\"PPO回测完成，最终资产: ${df_account_value_ppo['account_value'].iloc[-1]:,.2f}\"\n",
    "    )\n",
    "else:\n",
    "    df_account_value_ppo, df_actions_ppo = None, None\n",
    "\n",
    "# TD3模型回测\n",
    "if if_using_td3:\n",
    "    print(\"正在回测TD3模型...\")\n",
    "    df_account_value_td3, df_actions_td3 = DRLAgent.DRL_prediction(\n",
    "        model=trained_td3, environment=e_trade_gym\n",
    "    )\n",
    "    print(\n",
    "        f\"TD3回测完成，最终资产: ${df_account_value_td3['account_value'].iloc[-1]:,.2f}\"\n",
    "    )\n",
    "else:\n",
    "    df_account_value_td3, df_actions_td3 = None, None\n",
    "\n",
    "# SAC模型回测\n",
    "if if_using_sac:\n",
    "    print(\"正在回测SAC模型...\")\n",
    "    df_account_value_sac, df_actions_sac = DRLAgent.DRL_prediction(\n",
    "        model=trained_sac, environment=e_trade_gym\n",
    "    )\n",
    "    print(\n",
    "        f\"SAC回测完成，最终资产: ${df_account_value_sac['account_value'].iloc[-1]:,.2f}\"\n",
    "    )\n",
    "else:\n",
    "    df_account_value_sac, df_actions_sac = None, None"
   ]
  },
  {
   "cell_type": "markdown",
   "metadata": {},
   "source": [
    "# 添加参考基准"
   ]
  },
  {
   "cell_type": "code",
   "execution_count": 58,
   "metadata": {},
   "outputs": [],
   "source": [
    "# Part 3: 均值方差优化(MVO)\n",
    "\n",
    "\n",
    "# 处理数据为MVO格式\n",
    "def process_df_for_mvo(df):\n",
    "    return df.pivot(index=\"date\", columns=\"tic\", values=\"close\")\n",
    "\n",
    "\n",
    "# 计算股票收益率函数\n",
    "def StockReturnsComputing(StockPrice, Rows, Columns):\n",
    "    StockReturn = np.zeros([Rows - 1, Columns])\n",
    "    for j in range(Columns):  # j: Assets\n",
    "        for i in range(Rows - 1):  # i: Daily Prices\n",
    "            StockReturn[i, j] = (\n",
    "                (StockPrice[i + 1, j] - StockPrice[i, j]) / StockPrice[i, j]\n",
    "            ) * 100\n",
    "    return StockReturn\n",
    "\n",
    "\n",
    "# 准备MVO数据\n",
    "StockData = process_df_for_mvo(train)\n",
    "TradeData = process_df_for_mvo(trade)\n",
    "\n",
    "# 计算收益率和协方差\n",
    "arStockPrices = np.asarray(StockData)\n",
    "[Rows, Cols] = arStockPrices.shape\n",
    "arReturns = StockReturnsComputing(arStockPrices, Rows, Cols)\n",
    "meanReturns = np.mean(arReturns, axis=0)\n",
    "covReturns = np.cov(arReturns, rowvar=False)\n",
    "\n",
    "# 设置输出精度\n",
    "np.set_printoptions(precision=3, suppress=True)\n",
    "\n",
    "# 使用PyPortfolioOpt计算最优权重\n",
    "from pypfopt.efficient_frontier import EfficientFrontier\n",
    "\n",
    "ef_mean = EfficientFrontier(meanReturns, covReturns, weight_bounds=(0, 0.5))\n",
    "raw_weights_mean = ef_mean.max_sharpe()  # 最大化夏普比率\n",
    "cleaned_weights_mean = ef_mean.clean_weights()\n",
    "mvo_weights = np.array(\n",
    "    [1000000 * cleaned_weights_mean[i] for i in range(len(cleaned_weights_mean))]\n",
    ")\n",
    "\n",
    "# 计算股票份额\n",
    "LastPrice = np.array([1 / p for p in StockData.tail(1).to_numpy()[0]])\n",
    "Initial_Portfolio = np.multiply(mvo_weights, LastPrice)\n",
    "\n",
    "# 计算投资组合价值\n",
    "Portfolio_Assets = TradeData @ Initial_Portfolio\n",
    "MVO_result = pd.DataFrame(Portfolio_Assets, columns=[\"Mean Var\"])"
   ]
  },
  {
   "cell_type": "code",
   "execution_count": 59,
   "metadata": {},
   "outputs": [
    {
     "name": "stderr",
     "output_type": "stream",
     "text": [
      "[*********************100%***********************]  1 of 1 completed"
     ]
    },
    {
     "name": "stdout",
     "output_type": "stream",
     "text": [
      "Shape of DataFrame:  (48, 8)\n"
     ]
    },
    {
     "name": "stderr",
     "output_type": "stream",
     "text": [
      "\n"
     ]
    }
   ],
   "source": [
    "# Part 4: S&P 500指数作为基准\n",
    "\n",
    "# 使用回测时间范围\n",
    "TRAIN_START_DATE = \"2000-01-01\"\n",
    "TRAIN_END_DATE = \"2020-01-01\"\n",
    "TRADE_START_DATE = \"2025-01-01\"\n",
    "TRADE_END_DATE = \"2025-03-14\"\n",
    "\n",
    "# 获取S&P500指数数据\n",
    "df_spx = YahooDownloader(\n",
    "    start_date=TRADE_START_DATE, end_date=TRADE_END_DATE, ticker_list=[\"^GSPC\"]\n",
    ").fetch_data()\n",
    "\n",
    "# 处理S&P500数据，设置初始资金一致\n",
    "df_spx = df_spx[[\"date\", \"close\"]]\n",
    "fst_day = df_spx[\"close\"].iloc[0]\n",
    "spx = pd.merge(\n",
    "    df_spx[\"date\"],\n",
    "    df_spx[\"close\"].div(fst_day).mul(1000000),\n",
    "    how=\"outer\",\n",
    "    left_index=True,\n",
    "    right_index=True,\n",
    ").set_index(\"date\")"
   ]
  },
  {
   "cell_type": "markdown",
   "metadata": {},
   "source": [
    "# 整合回测结果"
   ]
  },
  {
   "cell_type": "code",
   "execution_count": 60,
   "metadata": {},
   "outputs": [
    {
     "name": "stderr",
     "output_type": "stream",
     "text": [
      "E:\\TEMP\\ipykernel_37796\\3753487854.py:65: UserWarning: FigureCanvasAgg is non-interactive, and thus cannot be shown\n",
      "  plt.show()\n"
     ]
    }
   ],
   "source": [
    "# Part 5: 回测结果整合与可视化\n",
    "\n",
    "# 处理结果数据\n",
    "df_result_a2c = (\n",
    "    df_account_value_a2c.set_index(df_account_value_a2c.columns[0])\n",
    "    if if_using_a2c and df_account_value_a2c is not None\n",
    "    else None\n",
    ")\n",
    "df_result_ddpg = (\n",
    "    df_account_value_ddpg.set_index(df_account_value_ddpg.columns[0])\n",
    "    if if_using_ddpg and df_account_value_ddpg is not None\n",
    "    else None\n",
    ")\n",
    "df_result_ppo = (\n",
    "    df_account_value_ppo.set_index(df_account_value_ppo.columns[0])\n",
    "    if if_using_ppo and df_account_value_ppo is not None\n",
    "    else None\n",
    ")\n",
    "df_result_td3 = (\n",
    "    df_account_value_td3.set_index(df_account_value_td3.columns[0])\n",
    "    if if_using_td3 and df_account_value_td3 is not None\n",
    "    else None\n",
    ")\n",
    "df_result_sac = (\n",
    "    df_account_value_sac.set_index(df_account_value_sac.columns[0])\n",
    "    if if_using_sac and df_account_value_sac is not None\n",
    "    else None\n",
    ")\n",
    "\n",
    "# 创建结果数据框 - 与示例代码保持一致的格式\n",
    "result_data = {}\n",
    "\n",
    "if if_using_a2c and df_result_a2c is not None:\n",
    "    result_data[\"a2c\"] = df_result_a2c[\"account_value\"]\n",
    "\n",
    "if if_using_ddpg and df_result_ddpg is not None:\n",
    "    result_data[\"ddpg\"] = df_result_ddpg[\"account_value\"]\n",
    "\n",
    "if if_using_ppo and df_result_ppo is not None:\n",
    "    result_data[\"ppo\"] = df_result_ppo[\"account_value\"]\n",
    "\n",
    "if if_using_td3 and df_result_td3 is not None:\n",
    "    result_data[\"td3\"] = df_result_td3[\"account_value\"]\n",
    "\n",
    "if if_using_sac and df_result_sac is not None:\n",
    "    result_data[\"sac\"] = df_result_sac[\"account_value\"]\n",
    "\n",
    "# 添加基准\n",
    "result_data[\"mvo\"] = MVO_result[\"Mean Var\"]\n",
    "result_data[\"spx\"] = spx[\"close\"]  # 使用S&P500而不是DJIA\n",
    "\n",
    "# 创建结果DataFrame\n",
    "result = pd.DataFrame(result_data)\n",
    "\n",
    "# 绘制结果对比图 - 与示例代码风格一致\n",
    "plt.rcParams[\"figure.figsize\"] = (15, 5)\n",
    "plt.figure()\n",
    "result.plot()\n",
    "plt.title(\"回测结果对比\")\n",
    "plt.xlabel(\"日期\")\n",
    "plt.ylabel(\"账户价值\")\n",
    "plt.legend()\n",
    "plt.grid(True, linestyle=\"--\", alpha=0.5)\n",
    "plt.savefig(\"results/backtest_comparison.png\", dpi=300, bbox_inches=\"tight\")\n",
    "plt.show()"
   ]
  }
 ],
 "metadata": {
  "kernelspec": {
   "display_name": "FinRL",
   "language": "python",
   "name": "python3"
  },
  "language_info": {
   "codemirror_mode": {
    "name": "ipython",
    "version": 3
   },
   "file_extension": ".py",
   "mimetype": "text/x-python",
   "name": "python",
   "nbconvert_exporter": "python",
   "pygments_lexer": "ipython3",
   "version": "3.11.11"
  }
 },
 "nbformat": 4,
 "nbformat_minor": 2
}
